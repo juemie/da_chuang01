{
 "cells": [
  {
   "cell_type": "code",
   "execution_count": 1,
   "metadata": {
    "collapsed": true
   },
   "outputs": [
    {
     "data": {
      "text/plain": "1    5322\n0    2443\nName: label, dtype: int64"
     },
     "execution_count": 1,
     "metadata": {},
     "output_type": "execute_result"
    }
   ],
   "source": [
    "import warnings\n",
    "\n",
    "warnings.filterwarnings('ignore')\n",
    "\n",
    "import jieba\n",
    "import pandas as pd\n",
    "import matplotlib.pyplot as plt\n",
    "import sklearn.metrics as sm\n",
    "import sklearn.model_selection as ms\n",
    "import sklearn.linear_model as lm\n",
    "import sklearn.feature_extraction.text as ft\n",
    "\n",
    "# 加载文件\n",
    "data = pd.read_csv(\"htl_all.csv\")\n",
    "data[\"label\"].value_counts()"
   ]
  },
  {
   "cell_type": "code",
   "execution_count": 2,
   "outputs": [
    {
     "name": "stderr",
     "output_type": "stream",
     "text": [
      "Building prefix dict from the default dictionary ...\n",
      "Loading model from cache C:\\Users\\juemie\\AppData\\Local\\Temp\\jieba.cache\n",
      "Loading model cost 0.682 seconds.\n",
      "Prefix dict has been built successfully.\n"
     ]
    }
   ],
   "source": [
    "\n",
    "def func(item):\n",
    "    # 分词\n",
    "    seg_list = jieba.cut_for_search(item)\n",
    "    return ' '.join(seg_list)\n",
    "\n",
    "\n",
    "# print(data['discuss'])\n",
    "data['new_review'] = data['review'].apply(func)\n",
    "# data.head()"
   ],
   "metadata": {
    "collapsed": false,
    "pycharm": {
     "name": "#%%\n"
    }
   }
  },
  {
   "cell_type": "code",
   "execution_count": 3,
   "outputs": [],
   "source": [
    "\n",
    "# 整理输入集与输出集     TFIDF\n",
    "cv = ft.CountVectorizer()\n",
    "bow = cv.fit_transform(data['new_review'])\n",
    "tt = ft.TfidfTransformer()\n",
    "tfidf = tt.fit_transform(bow)\n",
    "# print(tfidf.shape)\n",
    "\n",
    "# 拆分测试集与训练集\n",
    "train_x, test_x, train_y, test_y = ms.train_test_split(tfidf,\n",
    "                                                       data[\"label\"],\n",
    "                                                       test_size=0.3,\n",
    "                                                       random_state=7)"
   ],
   "metadata": {
    "collapsed": false,
    "pycharm": {
     "name": "#%%\n"
    }
   }
  },
  {
   "cell_type": "code",
   "execution_count": 4,
   "outputs": [],
   "source": [
    "\n",
    "# 整理输入集与输出集，拆分测试集与训练集\n",
    "\n",
    "# x, y = data[:, :-1], data['label']\n",
    "model = lm.LogisticRegression()\n",
    "#\n",
    "# # 做5次交叉验证\n",
    "# scores = ms.cross_val_score(model, x, y, cv=5, scoring='accuracy')\n",
    "# print(scores.mean())\n",
    "# scores = ms.cross_val_score(model, x, y, cv=5, scoring='precision_weighted')\n",
    "# print(scores.mean())\n",
    "# scores = ms.cross_val_score(model, x, y, cv=5, scoring='recall_weighted')\n",
    "# print(scores.mean())\n",
    "# scores = ms.cross_val_score(model, x, y, cv=5, scoring='f1_weighted')\n",
    "# print(scores.mean())"
   ],
   "metadata": {
    "collapsed": false,
    "pycharm": {
     "name": "#%%\n"
    }
   }
  },
  {
   "cell_type": "code",
   "execution_count": 5,
   "outputs": [
    {
     "name": "stdout",
     "output_type": "stream",
     "text": [
      "[1 1 1 ... 0 1 1]\n",
      "0.8553648068669528\n"
     ]
    }
   ],
   "source": [
    "model.fit(train_x, train_y)\n",
    "# 评估 模型准确率\n",
    "pred_test_y = model.predict(test_x)\n",
    "# print(pred_test_y)\n",
    "print(test_y.values)\n",
    "print((pred_test_y == test_y).sum() / test_y.size)"
   ],
   "metadata": {
    "collapsed": false,
    "pycharm": {
     "name": "#%%\n"
    }
   }
  },
  {
   "cell_type": "code",
   "execution_count": 6,
   "outputs": [
    {
     "name": "stdout",
     "output_type": "stream",
     "text": [
      "[[ 457  260]\n",
      " [  77 1536]]\n",
      "              precision    recall  f1-score   support\n",
      "\n",
      "           0       0.86      0.64      0.73       717\n",
      "           1       0.86      0.95      0.90      1613\n",
      "\n",
      "    accuracy                           0.86      2330\n",
      "   macro avg       0.86      0.79      0.82      2330\n",
      "weighted avg       0.86      0.86      0.85      2330\n",
      "\n"
     ]
    },
    {
     "data": {
      "text/plain": "<Figure size 432x288 with 1 Axes>",
      "image/png": "[encoded data removed]"
     },
     "metadata": {
      "needs_background": "light"
     },
     "output_type": "display_data"
    }
   ],
   "source": [
    "# 针对测试集进行评估\n",
    "m = sm.confusion_matrix(test_y, pred_test_y)\n",
    "print(m)\n",
    "plt.imshow(m, cmap='gray')\n",
    "\n",
    "# 输出分类报告\n",
    "cr = sm.classification_report(test_y, pred_test_y)\n",
    "print(cr)"
   ],
   "metadata": {
    "collapsed": false,
    "pycharm": {
     "name": "#%%\n"
    }
   }
  },
  {
   "cell_type": "code",
   "execution_count": 7,
   "outputs": [
    {
     "name": "stdout",
     "output_type": "stream",
     "text": [
      "[1 1 1 1 0 0 0 0 1 1]\n",
      "1 : 0.9852840788510052\n",
      "1 : 0.9870012696225303\n",
      "1 : 0.984657908882155\n",
      "1 : 0.9642172084340737\n",
      "0 : 0.9461334889797953\n",
      "0 : 0.8931370498613155\n",
      "0 : 0.9180643060432327\n",
      "0 : 0.5332696532324024\n",
      "1 : 0.8254505035965283\n",
      "1 : 0.9695538700127184\n"
     ]
    }
   ],
   "source": [
    "test_data = [\"总体来说房间非常干净，卫浴设置也相当不错，交通也比较便利\",\n",
    "             \"酒店交通方便，环境也不错，正好是我们办公地点的旁边，感觉性价比也还可以\",\n",
    "             \"设施还可以，服务人员态度也不错，交通还算便利\",\n",
    "             \"酒店位于交通要道上，标志和明显很好找，晚上比较安静，早餐挺不错，服务也比较到位\",\n",
    "             \"酒店服务态度极差，设施很差\",\n",
    "             \"我住过的最不好的酒店，以后绝不会再住了\",\n",
    "             \"说实在的，我很失望，我想这家酒店以后无论如何也不会再去了\",\n",
    "             \"刚住进去，就闻到一股异味，感觉极不舒服。晚上蚊子比较多，地板上也比较脏，电视遥控器都是坏的。还这么高的价格\",\n",
    "             \"交通不便利，环境也不怎么样，也没有早餐。但是价格便宜，性价比比价高，毕竟只有那点钱\",\n",
    "             \"交通方便，环境也不错，房间非常干净，卫浴设置也相当不错。晚上蚊子比较多，地板上也比较脏。总之没有说的那么好\", ]\n",
    "\n",
    "test_data = pd.Series(test_data).apply(func)\n",
    "# 把样本按照训练时的方式转换为tfidf矩阵，才可以继续预测\n",
    "bow = cv.transform(test_data)\n",
    "test_data = tt.transform(bow)\n",
    "pred_test_y = model.predict(test_data)\n",
    "\n",
    "# 输出置信概率\n",
    "pred_prob_y = model.predict_proba(test_data)\n",
    "\n",
    "print(pred_test_y)\n",
    "probs = pred_prob_y.max(axis=1)\n",
    "\n",
    "for b, c in zip(pred_test_y, probs):\n",
    "    print(b, ':', c)\n"
   ],
   "metadata": {
    "collapsed": false,
    "pycharm": {
     "name": "#%%\n"
    }
   }
  }
 ],
 "metadata": {
  "kernelspec": {
   "name": "pycharm-83fa3cbe",
   "language": "python",
   "display_name": "PyCharm (大创)"
  },
  "language_info": {
   "codemirror_mode": {
    "name": "ipython",
    "version": 2
   },
   "file_extension": ".py",
   "mimetype": "text/x-python",
   "name": "python",
   "nbconvert_exporter": "python",
   "pygments_lexer": "ipython2",
   "version": "2.7.6"
  }
 },
 "nbformat": 4,
 "nbformat_minor": 0
}