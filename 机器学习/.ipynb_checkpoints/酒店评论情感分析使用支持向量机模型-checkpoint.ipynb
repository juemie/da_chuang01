{
 "cells": [
  {
   "cell_type": "code",
   "execution_count": 1,
   "metadata": {
    "collapsed": true
   },
   "outputs": [
    {
     "data": {
      "text/plain": [
       "1    5322\n",
       "0    2443\n",
       "Name: label, dtype: int64"
      ]
     },
     "execution_count": 1,
     "metadata": {},
     "output_type": "execute_result"
    }
   ],
   "source": [
    "import jieba\n",
    "import numpy as np\n",
    "import pandas as pd\n",
    "import matplotlib.pyplot as plt\n",
    "import sklearn.model_selection as ms\n",
    "import sklearn.svm as svm\n",
    "import sklearn.metrics as sm\n",
    "import sklearn.feature_extraction.text as ft\n",
    "\n",
    "\n",
    "# 加载文件\n",
    "data = pd.read_csv(\"htl_all.csv\")\n",
    "data[\"label\"].value_counts()"
   ]
  },
  {
   "cell_type": "code",
   "execution_count": 5,
   "metadata": {
    "pycharm": {
     "name": "#%%\n"
    }
   },
   "outputs": [
    {
     "name": "stdout",
     "output_type": "stream",
     "text": [
      "(7765, 29936)\n",
      "0.8764324141561269\n",
      "              precision    recall  f1-score   support\n",
      "\n",
      "           0       0.82      0.69      0.75       717\n",
      "           1       0.87      0.93      0.90      1613\n",
      "\n",
      "    accuracy                           0.86      2330\n",
      "   macro avg       0.84      0.81      0.83      2330\n",
      "weighted avg       0.85      0.86      0.85      2330\n",
      "\n"
     ]
    }
   ],
   "source": [
    "def func(item):\n",
    "    # 分词\n",
    "    seg_list = jieba.cut_for_search(item)\n",
    "    return ' '.join(seg_list)\n",
    "\n",
    "\n",
    "# print(data['discuss'])\n",
    "data['new_review'] = data['review'].apply(func)\n",
    "data.head()\n",
    "\n",
    "# 整理输入集与输出集     TFIDF\n",
    "cv = ft.CountVectorizer()\n",
    "bow = cv.fit_transform(data['new_review'])\n",
    "tt = ft.TfidfTransformer()\n",
    "tfidf = tt.fit_transform(bow)\n",
    "print(tfidf.shape)\n",
    "\n",
    "# 整理数据集。拆分测试集训练集\n",
    "train_x, test_x, train_y, test_y = ms.train_test_split(tfidf,\n",
    "                                                       data[\"label\"],\n",
    "                                                       test_size=0.3,\n",
    "                                                       random_state=7)\n",
    "model = svm.SVC(kernel='linear')\n",
    "\n",
    "scores = ms.cross_val_score(model, tfidf, data[\"label\"],\n",
    "                            cv=10, scoring='f1_weighted')\n",
    "print(scores.mean())\n",
    "\n",
    "model.fit(train_x, train_y)\n",
    "pred_test_y = model.predict(test_x)\n",
    "print(sm.classification_report(test_y, pred_test_y))"
   ]
  },
  {
   "cell_type": "markdown",
   "metadata": {
    "pycharm": {
     "name": "#%% md\n"
    }
   },
   "source": [
    "# 暴力绘制分类边界线\n",
    "# 从x的min~max 拆出100个x坐标\n",
    "# 从y的min~max 拆出100个x坐标 一共组成1万个坐标点\n",
    "xs = np.linspace(data['x1'].min(), data[\"x1\"].max(), 100)\n",
    "ys = np.linspace(data['x2'].min(), data[\"x2\"].max(), 100)\n",
    "points = []\n",
    "for x in xs:\n",
    "    for y in ys:\n",
    "        points.append([x, y])\n",
    "points = np.array(points)\n",
    "# 预测每个坐标点的类别标签 绘制散点\n",
    "point_labels = model.predict(points)\n",
    "plt.scatter(points[:, 0], points[:, 1], c=point_labels, cmap=\"gray\")\n",
    "plt.scatter(test_x['x1'], test_x['x2'], c=test_y, cmap=\"brg\")"
   ]
  },
  {
   "cell_type": "markdown",
   "metadata": {
    "pycharm": {
     "name": "#%% md\n"
    }
   },
   "source": [
    "# 多项式核函数\n",
    "model = svm.SVC(kernel='poly', degree=2)\n",
    "model.fit(train_x, train_y)\n",
    "pred_test_y = model.predict(test_x)\n",
    "print(sm.classification_report(test_y, pred_test_y))\n",
    "\n",
    "# 预测每个坐标点的类别标签 绘制散点\n",
    "point_labels = model.predict(points)\n",
    "plt.scatter(points[:, 0], points[:, 1], c=point_labels, cmap=\"gray\")\n",
    "plt.scatter(test_x['x1'], test_x['x2'], c=test_y, cmap=\"brg\")\n"
   ]
  },
  {
   "cell_type": "markdown",
   "metadata": {
    "pycharm": {
     "name": "#%% md\n"
    }
   },
   "source": [
    "# 经向基核函数\n",
    "model = svm.SVC(kernel='rbf', C=1, gamma=50)\n",
    "model.fit(train_x, train_y)\n",
    "pred_test_y = model.predict(test_x)\n",
    "# print(sm.classification_report(test_y, pred_test_y))\n",
    "\n",
    "# 预测每个坐标点的类别标签 绘制散点\n",
    "point_labels = model.predict(points)\n",
    "plt.scatter(points[:, 0], points[:, 1], c=point_labels, cmap=\"gray\")\n",
    "plt.scatter(test_x['x1'], test_x['x2'], c=test_y, cmap=\"brg\")"
   ]
  },
  {
   "cell_type": "markdown",
   "metadata": {
    "pycharm": {
     "name": "#%% md\n"
    }
   },
   "source": [
    "## 通过网格搜索寻求最优超参数组合"
   ]
  },
  {
   "cell_type": "code",
   "execution_count": null,
   "metadata": {
    "pycharm": {
     "is_executing": true,
     "name": "#%%\n"
    }
   },
   "outputs": [],
   "source": [
    "model = svm.SVC()\n",
    "\n",
    "params = [{'kernel': ['linear'], 'C': [1, 10, 100]},\n",
    "          {'kernel': ['poly'], 'degree': [2, 3]},\n",
    "          {'kernel': ['rbf'], 'C': [1, 10, 100], 'gamma': [1, 0.01, 0.1]}]\n",
    "\n",
    "model = ms.GridSearchCV(model, params, cv=10)\n",
    "\n",
    "scores = ms.cross_val_score(model, tfidf, data[\"label\"],\n",
    "                            cv=10, scoring='f1_weighted')\n",
    "print(scores.mean())\n",
    "\n",
    "model.fit(train_x, train_y)\n",
    "\n",
    "\n",
    "# pred_test_y = model.predict(test_x)\n",
    "# print(sm.classification_report(test_y, pred_test_y))\n",
    "# 预测每个坐标点的类别标签 绘制散点\n",
    "# point_labels = model.predict(points)\n",
    "# plt.scatter(points[:, 0], points[:, 1], c=point_labels, cmap=\"gray\")\n",
    "# plt.scatter(test_x['x1'], test_x['x2'], c=test_y, cmap=\"brg\")\n",
    "# print(model.best_params_)\n",
    "# print(model.best_score_)\n",
    "# print(model.best_estimator_)"
   ]
  },
  {
   "cell_type": "code",
   "execution_count": null,
   "metadata": {},
   "outputs": [],
   "source": []
  }
 ],
 "metadata": {
  "kernelspec": {
   "display_name": "Python 3 (ipykernel)",
   "language": "python",
   "name": "python3"
  },
  "language_info": {
   "codemirror_mode": {
    "name": "ipython",
    "version": 2
   },
   "file_extension": ".py",
   "mimetype": "text/x-python",
   "name": "python",
   "nbconvert_exporter": "python",
   "pygments_lexer": "ipython2",
   "version": "2.7.6"
  }
 },
 "nbformat": 4,
 "nbformat_minor": 1
}
