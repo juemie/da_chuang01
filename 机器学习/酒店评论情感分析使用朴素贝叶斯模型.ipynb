{
 "cells": [
  {
   "cell_type": "code",
   "execution_count": 1,
   "metadata": {
    "collapsed": true
   },
   "outputs": [
    {
     "data": {
      "text/plain": "1    5322\n0    2443\nName: label, dtype: int64"
     },
     "execution_count": 1,
     "metadata": {},
     "output_type": "execute_result"
    }
   ],
   "source": [
    "# 朴素贝叶斯模型\n",
    "import warnings\n",
    "warnings.filterwarnings('ignore')\n",
    "\n",
    "import jieba\n",
    "import numpy as np\n",
    "import pandas as pd\n",
    "import matplotlib.pyplot as plt\n",
    "import sklearn.metrics as sm\n",
    "import sklearn.model_selection as ms\n",
    "import sklearn.naive_bayes as nb\n",
    "import sklearn.feature_extraction.text as ft\n",
    "\n",
    "# 加载文件\n",
    "data = pd.read_csv(\"htl_all.csv\")\n",
    "data[\"label\"].value_counts()"
   ]
  },
  {
   "cell_type": "code",
   "execution_count": 2,
   "outputs": [
    {
     "name": "stderr",
     "output_type": "stream",
     "text": [
      "Building prefix dict from the default dictionary ...\n",
      "Loading model from cache C:\\Users\\juemie\\AppData\\Local\\Temp\\jieba.cache\n",
      "Loading model cost 0.539 seconds.\n",
      "Prefix dict has been built successfully.\n"
     ]
    },
    {
     "data": {
      "text/plain": "   label                                             review  \\\n0      1  距离川沙公路较近,但是公交指示不对,如果是\"蔡陆线\"的话,会非常麻烦.建议用别的路线.房间较...   \n1      1                       商务大床房，房间很大，床有2M宽，整体感觉经济实惠不错!   \n2      1         早餐太差，无论去多少人，那边也不加食品的。酒店应该重视一下这个问题了。房间本身很好。   \n3      1  宾馆在小街道上，不大好找，但还好北京热心同胞很多~宾馆设施跟介绍的差不多，房间很小，确实挺小...   \n4      1               CBD中心,周围没什么店铺,说5星有点勉强.不知道为什么卫生间没有电吹风   \n\n                                          new_review  \n0  距离 川沙 公路 较近 , 但是 公交 指示 不 对 , 如果 是 \" 蔡陆线 \" 的话 ,...  \n1       商务 大床 房 ， 房间 很大 ， 床有 2M 宽 ， 整体 感觉 经济 实惠 不错 !  \n2  早餐 太 差 ， 无论 去 多少 人 ， 那边 也 不加 食品 的 。 酒店 应该 重视 一...  \n3  宾馆 在 小 街道 上 ， 不大 大好 不大好 找 ， 但 还好 北京 热心 同胞 很多 ~...  \n4  CBD 中心 , 周围 什么 没什么 店铺 , 说 5 星 有点 勉强 . 不 知道 什么 ...  ",
      "text/html": "<div>\n<style scoped>\n    .dataframe tbody tr th:only-of-type {\n        vertical-align: middle;\n    }\n\n    .dataframe tbody tr th {\n        vertical-align: top;\n    }\n\n    .dataframe thead th {\n        text-align: right;\n    }\n</style>\n<table border=\"1\" class=\"dataframe\">\n  <thead>\n    <tr style=\"text-align: right;\">\n      <th></th>\n      <th>label</th>\n      <th>review</th>\n      <th>new_review</th>\n    </tr>\n  </thead>\n  <tbody>\n    <tr>\n      <th>0</th>\n      <td>1</td>\n      <td>距离川沙公路较近,但是公交指示不对,如果是\"蔡陆线\"的话,会非常麻烦.建议用别的路线.房间较...</td>\n      <td>距离 川沙 公路 较近 , 但是 公交 指示 不 对 , 如果 是 \" 蔡陆线 \" 的话 ,...</td>\n    </tr>\n    <tr>\n      <th>1</th>\n      <td>1</td>\n      <td>商务大床房，房间很大，床有2M宽，整体感觉经济实惠不错!</td>\n      <td>商务 大床 房 ， 房间 很大 ， 床有 2M 宽 ， 整体 感觉 经济 实惠 不错 !</td>\n    </tr>\n    <tr>\n      <th>2</th>\n      <td>1</td>\n      <td>早餐太差，无论去多少人，那边也不加食品的。酒店应该重视一下这个问题了。房间本身很好。</td>\n      <td>早餐 太 差 ， 无论 去 多少 人 ， 那边 也 不加 食品 的 。 酒店 应该 重视 一...</td>\n    </tr>\n    <tr>\n      <th>3</th>\n      <td>1</td>\n      <td>宾馆在小街道上，不大好找，但还好北京热心同胞很多~宾馆设施跟介绍的差不多，房间很小，确实挺小...</td>\n      <td>宾馆 在 小 街道 上 ， 不大 大好 不大好 找 ， 但 还好 北京 热心 同胞 很多 ~...</td>\n    </tr>\n    <tr>\n      <th>4</th>\n      <td>1</td>\n      <td>CBD中心,周围没什么店铺,说5星有点勉强.不知道为什么卫生间没有电吹风</td>\n      <td>CBD 中心 , 周围 什么 没什么 店铺 , 说 5 星 有点 勉强 . 不 知道 什么 ...</td>\n    </tr>\n  </tbody>\n</table>\n</div>"
     },
     "execution_count": 2,
     "metadata": {},
     "output_type": "execute_result"
    }
   ],
   "source": [
    "def func(item):\n",
    "    # 分词\n",
    "    seg_list = jieba.cut_for_search(item)\n",
    "    return ' '.join(seg_list)\n",
    "\n",
    "\n",
    "# print(data['discuss'])\n",
    "data['new_review'] = data['review'].apply(func)\n",
    "data.head()"
   ],
   "metadata": {
    "collapsed": false,
    "pycharm": {
     "name": "#%%\n"
    }
   }
  },
  {
   "cell_type": "code",
   "execution_count": 3,
   "outputs": [
    {
     "name": "stdout",
     "output_type": "stream",
     "text": [
      "<bound method spmatrix.mean of <7765x29936 sparse matrix of type '<class 'numpy.int64'>'\n",
      "\twith 308652 stored elements in Compressed Sparse Row format>>\n"
     ]
    }
   ],
   "source": [
    "# 整理输入集与输出集     TFIDF\n",
    "cv = ft.CountVectorizer()\n",
    "# print(cv)\n",
    "bow = cv.fit_transform(data['new_review'])\n",
    "# with open('out1.txt', 'w') as f:\n",
    "#     for i in dir(bow):\n",
    "#         f.write(i + \",\")\n",
    "print(bow.mean)\n",
    "tt = ft.TfidfTransformer()\n",
    "tfidf = tt.fit_transform(bow)\n",
    "# print(tfidf.shape)\n",
    "\n",
    "# 拆分测试集与训练集\n",
    "train_x, test_x, train_y, test_y = ms.train_test_split(tfidf,\n",
    "                                                       data[\"label\"],\n",
    "                                                       test_size=0.3,\n",
    "                                                       random_state=7)\n",
    "\n",
    "model = nb.MultinomialNB()"
   ],
   "metadata": {
    "collapsed": false,
    "pycharm": {
     "name": "#%%\n"
    }
   }
  },
  {
   "cell_type": "markdown",
   "source": [
    "## 使用验证曲线，选取最优超参数"
   ],
   "metadata": {
    "collapsed": false
   }
  },
  {
   "cell_type": "code",
   "source": [
    "params = np.arange(0, 1.1, 0.1)\n",
    "train_scores, test_scores = ms.validation_curve(model,\n",
    "                                                train_x,\n",
    "                                                train_y,\n",
    "                                                'alpha',\n",
    "                                                params,\n",
    "                                                cv=10)\n",
    "scores = test_scores.mean(axis=1)\n",
    "# 验证可视化操作\n",
    "plt.grid(linestyle=':')\n",
    "plt.plot(params, scores, 'o-',\n",
    "         color=\"dodgerblue\",\n",
    "         label='random_state VC',\n",
    "         linestyle='--')\n",
    "plt.legend\n"
   ],
   "metadata": {
    "collapsed": false,
    "pycharm": {
     "name": "#%%\n"
    }
   },
   "execution_count": 4,
   "outputs": [
    {
     "data": {
      "text/plain": "<function matplotlib.pyplot.legend(*args, **kwargs)>"
     },
     "execution_count": 4,
     "metadata": {},
     "output_type": "execute_result"
    },
    {
     "data": {
      "text/plain": "<Figure size 432x288 with 1 Axes>",
      "image/png": "[encoded data removed]"
     },
     "metadata": {
      "needs_background": "light"
     },
     "output_type": "display_data"
    }
   ]
  },
  {
   "cell_type": "markdown",
   "source": [
    "## 学习曲线，选取每次喂入的最优训练集大小"
   ],
   "metadata": {
    "collapsed": false
   }
  },
  {
   "cell_type": "code",
   "source": [
    "params = np.arange(0.1, 1.1, 0.1)\n",
    "_, train_scores, test_scores = ms.learning_curve(model,\n",
    "                                                 train_x,\n",
    "                                                 train_y,\n",
    "                                                 train_sizes=params,\n",
    "                                                 cv=10)\n",
    "scores = test_scores.mean(axis=1)\n",
    "# 验证可视化操作\n",
    "plt.grid(linestyle=':')\n",
    "plt.plot(params, scores, 'o-', color=\"green\", label='learning curve VC',\n",
    "         linestyle='--')\n",
    "plt.legend"
   ],
   "metadata": {
    "collapsed": false,
    "pycharm": {
     "name": "#%%\n"
    }
   },
   "execution_count": 5,
   "outputs": [
    {
     "data": {
      "text/plain": "<function matplotlib.pyplot.legend(*args, **kwargs)>"
     },
     "execution_count": 5,
     "metadata": {},
     "output_type": "execute_result"
    },
    {
     "data": {
      "text/plain": "<Figure size 432x288 with 1 Axes>",
      "image/png": "[encoded data removed]"
     },
     "metadata": {
      "needs_background": "light"
     },
     "output_type": "display_data"
    }
   ]
  },
  {
   "cell_type": "code",
   "execution_count": 6,
   "outputs": [
    {
     "name": "stdout",
     "output_type": "stream",
     "text": [
      "0.7052972980480733\n",
      "              precision    recall  f1-score   support\n",
      "\n",
      "           0       0.98      0.18      0.30       717\n",
      "           1       0.73      1.00      0.84      1613\n",
      "\n",
      "    accuracy                           0.75      2330\n",
      "   macro avg       0.86      0.59      0.57      2330\n",
      "weighted avg       0.81      0.75      0.68      2330\n",
      "\n",
      "混淆矩阵\n",
      "[[ 127  590]\n",
      " [   2 1611]]\n"
     ]
    }
   ],
   "source": [
    "scores = ms.cross_val_score(model, tfidf, data[\"label\"],\n",
    "                            cv=10, scoring='f1_weighted')\n",
    "print(scores.mean())\n",
    "\n",
    "# 训练模型\n",
    "model.fit(train_x, train_y)\n",
    "\n",
    "# 测试模型，评估模型\n",
    "pred_test_y = model.predict(test_x)\n",
    "print(sm.classification_report(test_y, pred_test_y))\n",
    "print(\"混淆矩阵\")\n",
    "print(sm.confusion_matrix(test_y, pred_test_y))"
   ],
   "metadata": {
    "collapsed": false,
    "pycharm": {
     "name": "#%%\n"
    }
   }
  },
  {
   "cell_type": "code",
   "execution_count": 7,
   "outputs": [
    {
     "name": "stdout",
     "output_type": "stream",
     "text": [
      "[1 1 1 1 0 0 0 1 1 1]\n",
      "1 : 0.9851352428651704\n",
      "1 : 0.9793404818126737\n",
      "1 : 0.9821931625458118\n",
      "1 : 0.9784662405497451\n",
      "0 : 0.6123339420690898\n",
      "0 : 0.7343340114112049\n",
      "0 : 0.6114033541031018\n",
      "1 : 0.5609077479877286\n",
      "1 : 0.9487111075125522\n",
      "1 : 0.9595905256787345\n"
     ]
    }
   ],
   "source": [
    "test_data = [\"总体来说房间非常干净，卫浴设置也相当不错，交通也比较便利\",\n",
    "             \"酒店交通方便，环境也不错，正好是我们办公地点的旁边，感觉性价比也还可以\",\n",
    "             \"设施还可以，服务人员态度也不错，交通还算便利\",\n",
    "             \"酒店位于交通要道上，标志和明显很好找，晚上比较安静，早餐挺不错，服务也比较到位\",\n",
    "             \"酒店服务态度极差，设施很差\",\n",
    "             \"我住过的最不好的酒店，以后绝不会再住了\",\n",
    "             \"说实在的，我很失望，我想这家酒店以后无论如何也不会再去了\",\n",
    "             \"刚住进去，就闻到一股异味，感觉极不舒服。晚上蚊子比较多，地板上也比较脏，电视遥控器都是坏的。还这么高的价格\",\n",
    "             \"交通不便利，环境也不怎么样，也没有早餐。但是价格便宜，性价比比价高，毕竟只有那点钱\",\n",
    "             \"交通方便，环境也不错，房间非常干净，卫浴设置也相当不错。晚上蚊子比较多，地板上也比较脏。总之没有说的那么好\", ]\n",
    "\n",
    "test_data = pd.Series(test_data).apply(func)\n",
    "# 把样本按照训练时的方式转换为tfidf矩阵，才可以继续预测\n",
    "bow = cv.transform(test_data)\n",
    "test_data = tt.transform(bow)\n",
    "pred_test_y = model.predict(test_data)\n",
    "\n",
    "# 输出置信概率\n",
    "pred_prob_y = model.predict_proba(test_data)\n",
    "\n",
    "print(pred_test_y)\n",
    "probs = pred_prob_y.max(axis=1)\n",
    "\n",
    "for b, c in zip(pred_test_y, probs):\n",
    "    print(b, ':', c)"
   ],
   "metadata": {
    "collapsed": false,
    "pycharm": {
     "name": "#%%\n"
    }
   }
  }
 ],
 "metadata": {
  "kernelspec": {
   "name": "pycharm-83fa3cbe",
   "language": "python",
   "display_name": "PyCharm (大创)"
  },
  "language_info": {
   "codemirror_mode": {
    "name": "ipython",
    "version": 2
   },
   "file_extension": ".py",
   "mimetype": "text/x-python",
   "name": "python",
   "nbconvert_exporter": "python",
   "pygments_lexer": "ipython2",
   "version": "2.7.6"
  }
 },
 "nbformat": 4,
 "nbformat_minor": 0
}